{
 "cells": [
  {
   "cell_type": "code",
   "execution_count": 1,
   "id": "d5c7c732",
   "metadata": {},
   "outputs": [],
   "source": [
    "import numpy as np\n",
    "from Bio import SeqIO\n",
    "from sklearn.model_selection import train_test_split\n",
    "import gc # Garbage Collector interface\n",
    "import random # To shuffle the data before subsampling"
   ]
  },
  {
   "cell_type": "code",
   "execution_count": 2,
   "id": "15d6902e",
   "metadata": {},
   "outputs": [],
   "source": [
    "SEQ_LENGTH = 2000\n",
    "# Using np.int8 is 8x more memory-efficient than the default float64\n",
    "DNA_MAP = {'A': [1, 0, 0, 0], 'C': [0, 1, 0, 0], 'G': [0, 0, 1, 0], 'T': [0, 0, 0, 1], 'N': [0, 0, 0, 0]}\n",
    "\n",
    "def one_hot_encode(sequence, dtype=np.int8):\n",
    "    \"\"\"Converts a DNA sequence string into a one-hot encoded NumPy array.\"\"\"\n",
    "    one_hot = np.zeros((len(sequence), 4), dtype=dtype)\n",
    "    for i, base in enumerate(sequence):\n",
    "        one_hot[i, :] = DNA_MAP.get(base.upper(), DNA_MAP['N'])\n",
    "    return one_hot\n",
    "\n",
    "def process_fasta_file(filepath):\n",
    "    \"\"\"Reads a FASTA file and returns a list of sequence strings.\"\"\"\n",
    "    sequences = []\n",
    "    for record in SeqIO.parse(filepath, \"fasta\"):\n",
    "        sequences.append(str(record.seq))\n",
    "    return sequences"
   ]
  },
  {
   "cell_type": "code",
   "execution_count": 3,
   "id": "bf0a9c15",
   "metadata": {},
   "outputs": [
    {
     "name": "stderr",
     "output_type": "stream",
     "text": [
      "WARNING:absl:Compiled the loaded model, but the compiled metrics have yet to be built. `model.compile_metrics` will be empty until you train or evaluate the model.\n"
     ]
    },
    {
     "name": "stdout",
     "output_type": "stream",
     "text": [
      "Model loaded successfully.\n",
      "\u001b[1m1/1\u001b[0m \u001b[32m━━━━━━━━━━━━━━━━━━━━\u001b[0m\u001b[37m\u001b[0m \u001b[1m0s\u001b[0m 253ms/step\n",
      "\n",
      "The sequence was predicted as: Promoter (Probability: 0.9860)\n"
     ]
    }
   ],
   "source": [
    "from tensorflow.keras.models import load_model\n",
    "\n",
    "# --- You would do this in a new script or notebook ---\n",
    "\n",
    "# Load the saved model\n",
    "loaded_model = load_model('promoter_classifier_model.h5')\n",
    "print(\"Model loaded successfully.\")\n",
    "\n",
    "# Example of a new, unknown DNA sequence (must be 2000 bp long)\n",
    "new_sequence_str = \"NNNNNNNNCGGGTATAANNNNNNNN\" * 100 # Replace with a real sequence\n",
    "new_sequence_str = new_sequence_str[:2000]\n",
    "\n",
    "# Preprocess it the same way as your training data\n",
    "one_hot_new_seq = one_hot_encode(new_sequence_str) # Assumes you have the one_hot_encode function\n",
    "# Add a 'batch' dimension\n",
    "model_input = np.expand_dims(one_hot_new_seq, axis=0)\n",
    "\n",
    "# Make a prediction\n",
    "prediction_prob = loaded_model.predict(model_input)\n",
    "prediction = \"Promoter\" if prediction_prob[0][0] > 0.5 else \"Not a Promoter\"\n",
    "\n",
    "print(f\"\\nThe sequence was predicted as: {prediction} (Probability: {prediction_prob[0][0]:.4f})\")"
   ]
  }
 ],
 "metadata": {
  "kernelspec": {
   "display_name": "Python 3",
   "language": "python",
   "name": "python3"
  },
  "language_info": {
   "codemirror_mode": {
    "name": "ipython",
    "version": 3
   },
   "file_extension": ".py",
   "mimetype": "text/x-python",
   "name": "python",
   "nbconvert_exporter": "python",
   "pygments_lexer": "ipython3",
   "version": "3.11.0"
  }
 },
 "nbformat": 4,
 "nbformat_minor": 5
}
